{
  "nbformat": 4,
  "nbformat_minor": 0,
  "metadata": {
    "colab": {
      "provenance": [],
      "authorship_tag": "ABX9TyMoreaZ2X4716HvzdtTH4ca"
    },
    "kernelspec": {
      "name": "python3",
      "display_name": "Python 3"
    },
    "language_info": {
      "name": "python"
    }
  },
  "cells": [
    {
      "cell_type": "code",
      "execution_count": 1,
      "metadata": {
        "id": "rhf3yvttXPbI"
      },
      "outputs": [],
      "source": [
        "## Q23 Area of a Regular Polygon"
      ]
    },
    {
      "cell_type": "code",
      "source": [
        "from math import tan,pi\n",
        "s = eval(input(\"Enter the length of side : \"))\n",
        "n = eval(input(\"Enter no. of sides : \"))\n",
        "area = (n * s**2)/ (4 * tan (pi / n ))\n",
        "print(\"Area is : \", area)"
      ],
      "metadata": {
        "colab": {
          "base_uri": "https://localhost:8080/"
        },
        "id": "zAa-xxDpX4yk",
        "outputId": "2fed783d-5d0f-480b-c745-b0edafadb8b4"
      },
      "execution_count": null,
      "outputs": [
        {
          "output_type": "stream",
          "name": "stdout",
          "text": [
            "Enter the length of side : 4\n",
            "Enter no. of sides : 4\n",
            "Area is :  16.000000000000004\n"
          ]
        }
      ]
    },
    {
      "cell_type": "code",
      "source": [
        "# Q24 Units of Time"
      ],
      "metadata": {
        "id": "Pk8GHc6nnpp8"
      },
      "execution_count": null,
      "outputs": []
    },
    {
      "cell_type": "code",
      "source": [
        "\n",
        "days = int(input(\"Enter the no. of days : \"))\n",
        "hours = int(input(\"Enter the no. of hours : \"))\n",
        "min = int(input(\"Enter the no. of minutes : \"))\n",
        "sec = int(input(\"Enter the no. of seconds : \"))\n",
        "\n",
        "tot = sec\n",
        "tot += min*60\n",
        "tot += (hours * 60 * 60)\n",
        "tot += days *24 * 60 * 60\n",
        "print (\"total time in hours = \", tot, \" secs\")"
      ],
      "metadata": {
        "colab": {
          "base_uri": "https://localhost:8080/"
        },
        "id": "iu4_9-LYYqWy",
        "outputId": "4732e43a-dcb2-451b-e659-e221c3fd618a"
      },
      "execution_count": null,
      "outputs": [
        {
          "output_type": "stream",
          "name": "stdout",
          "text": [
            "Enter the no. of days : 5\n",
            "Enter the no. of hours : 5\n",
            "Enter the no. of minutes : 5\n",
            "Enter the no. of seconds : 1\n",
            "total time in hours =  450301  secs\n"
          ]
        }
      ]
    },
    {
      "cell_type": "code",
      "source": [
        "# Q25 Units of Time (Again)"
      ],
      "metadata": {
        "id": "4QSb0WfvaMvd"
      },
      "execution_count": null,
      "outputs": []
    },
    {
      "cell_type": "code",
      "source": [
        "sec = int(input(\"Enter the no. of seconds : \"))\n",
        "\n",
        "days = sec // (60 * 60 *24)\n",
        "days = format(days, \"02d\")\n",
        "sec = sec % (60* 60 *24)\n",
        "hours = sec // (60 * 60)\n",
        "hours = format(hours, \"02d\")\n",
        "sec = sec % (60 * 60)\n",
        "min = sec // 60\n",
        "min = format(min, \"02d\")\n",
        "sec = sec % (60)\n",
        "sec = format(sec, \"02d\")\n",
        "\n",
        "print ( days,\" : \", hours, \" : \", min,\" : \", sec)"
      ],
      "metadata": {
        "colab": {
          "base_uri": "https://localhost:8080/"
        },
        "id": "baux2pfZaxGW",
        "outputId": "b2d3db29-17d4-4236-db82-5c218bc46738"
      },
      "execution_count": null,
      "outputs": [
        {
          "output_type": "stream",
          "name": "stdout",
          "text": [
            "Enter the no. of seconds : 9547863\n",
            "110  :  12  :  11  :  03\n"
          ]
        }
      ]
    },
    {
      "cell_type": "code",
      "source": [
        "x = 55\n",
        "x = format(x, \"02d\")\n",
        "print(x)"
      ],
      "metadata": {
        "id": "YE8PDYkxcxdc",
        "colab": {
          "base_uri": "https://localhost:8080/"
        },
        "outputId": "b889c963-b194-43dd-f148-f7bf09bc2ef9"
      },
      "execution_count": null,
      "outputs": [
        {
          "output_type": "stream",
          "name": "stdout",
          "text": [
            "55\n"
          ]
        }
      ]
    },
    {
      "cell_type": "code",
      "source": [
        "# Q 26 Current Time"
      ],
      "metadata": {
        "id": "GGaFyCoFjePO"
      },
      "execution_count": null,
      "outputs": []
    },
    {
      "cell_type": "code",
      "source": [
        "from time import asctime\n",
        "time1 = asctime()\n",
        "print(time1)"
      ],
      "metadata": {
        "colab": {
          "base_uri": "https://localhost:8080/"
        },
        "id": "Gb2Hs1Vznq8v",
        "outputId": "516f5e20-9f23-4b81-cf8e-741af2569de2"
      },
      "execution_count": null,
      "outputs": [
        {
          "output_type": "stream",
          "name": "stdout",
          "text": [
            "Mon Feb 20 07:00:38 2023\n"
          ]
        }
      ]
    },
    {
      "cell_type": "code",
      "source": [
        "# Q27  Body Mass Index"
      ],
      "metadata": {
        "id": "X3qPI5s2n6zz"
      },
      "execution_count": null,
      "outputs": []
    },
    {
      "cell_type": "code",
      "source": [
        "h = eval(input(\"Enter height : \"))\n",
        "w = eval(input(\"Enter weight : \"))\n",
        "x = input(\"If the height is in Inches and pounds enter 1 and if in kg and meters enter 2 :  \")\n",
        "if x == \"1\" :\n",
        "  bmi = w * 703/ (h**2)\n",
        "elif x == \"2\" :\n",
        "  bmi = w / h**2\n",
        "\n",
        "print ( \"your bmi is  : \", bmi)\n"
      ],
      "metadata": {
        "colab": {
          "base_uri": "https://localhost:8080/"
        },
        "id": "Ohj7hCiCoIOU",
        "outputId": "197aa181-66a5-46a8-c15f-83c13fca9994"
      },
      "execution_count": null,
      "outputs": [
        {
          "output_type": "stream",
          "name": "stdout",
          "text": [
            "Enter height : 1.55\n",
            "Enter weight : 59\n",
            "If the height is in Inches and pounds enter 1 and if in kg and meters enter 2 :  2\n",
            "your bmi is  :  24.55775234131113\n"
          ]
        }
      ]
    },
    {
      "cell_type": "code",
      "source": [
        "# Q28 Wind Chill"
      ],
      "metadata": {
        "id": "fCAb08GMphU9"
      },
      "execution_count": null,
      "outputs": []
    },
    {
      "cell_type": "code",
      "source": [
        "t = float(input(\"Enter air temperature in celsius  : \"))\n",
        "v = float(input(\"Enter wind speed in km per hour : \"))\n",
        "\n",
        "if t<= 10 and v > 4.8 :\n",
        "  wci = 13.12 + (0.6215 *t ) - (11.37 * (v**0.16)) + (0.395 *t * (v**0.16))\n",
        "  print(\"The wind chill index is : \", round(wci) )\n",
        "else :\n",
        "  print( \"The wind chill index is only considered valid for temperatures less than or equal to 10 degrees Celsius and wind speeds exceeding 4.8 kilometers per hour \")\n",
        "  print(\"Please try again with valid temperature and speed \")\n",
        "\n"
      ],
      "metadata": {
        "colab": {
          "base_uri": "https://localhost:8080/"
        },
        "id": "Xk4vH7SLp_xw",
        "outputId": "195be9a3-761f-47c1-d8c8-70696e660452"
      },
      "execution_count": null,
      "outputs": [
        {
          "output_type": "stream",
          "name": "stdout",
          "text": [
            "Enter air temperature in celsius  : 5\n",
            "Enter wind speed in km per hour : 6\n",
            "The wind chill index is :  4\n"
          ]
        }
      ]
    },
    {
      "cell_type": "code",
      "source": [
        "# Q29 Celsius to Fahrenheit and Kelvin"
      ],
      "metadata": {
        "id": "-AJC8_X_tv7a"
      },
      "execution_count": null,
      "outputs": []
    },
    {
      "cell_type": "code",
      "source": [
        "c = eval(input(\"Enter temperature in celsius  : \"))\n",
        "k = c + 273.15\n",
        "f = (c * 9/5) + 32\n",
        "\n",
        "print(\"Temperature in Kelvin = \", k)\n",
        "print(\"Temperature in Fahrenheit = \", f)"
      ],
      "metadata": {
        "colab": {
          "base_uri": "https://localhost:8080/"
        },
        "id": "KtYvOYsZv9XD",
        "outputId": "72d05afc-f7b5-4180-ec40-538b46b075cc"
      },
      "execution_count": null,
      "outputs": [
        {
          "output_type": "stream",
          "name": "stdout",
          "text": [
            "Enter temperature in celsius  : 33\n",
            "Temperature in Kelvin =  306.15\n",
            "Temperature in Fahrenheit =  91.4\n"
          ]
        }
      ]
    },
    {
      "cell_type": "code",
      "source": [
        "# Q 31 Sum of the Digits in an Integer"
      ],
      "metadata": {
        "id": "QrJdJX-3xkrQ"
      },
      "execution_count": null,
      "outputs": []
    },
    {
      "cell_type": "code",
      "source": [
        "x = int(input(\" Enter 4 digit number : \"))\n",
        "\n",
        "x1 = x //1000\n",
        "x = x - x1*1000\n",
        "x2 = x  // 100\n",
        "x = x - x2*100\n",
        "x3 = x  // 10\n",
        "x = x - x3*10\n",
        "\n",
        "print( x1, x2, x3, x)\n",
        "\n",
        "sum = x1 + x2 + x3 + x\n",
        "\n",
        "print(\"sum = \", sum)\n"
      ],
      "metadata": {
        "colab": {
          "base_uri": "https://localhost:8080/"
        },
        "id": "DpOyqfAGx7Ar",
        "outputId": "dd6fe5f5-78a2-49aa-d5bd-c5c0887cec78"
      },
      "execution_count": null,
      "outputs": [
        {
          "output_type": "stream",
          "name": "stdout",
          "text": [
            " Enter 4 digit number : 1234\n",
            "1 2 3 4\n",
            "sum =  10\n"
          ]
        }
      ]
    },
    {
      "cell_type": "code",
      "source": [
        "x = 1234\n",
        "n = x // 1000\n",
        "print(n)\n"
      ],
      "metadata": {
        "colab": {
          "base_uri": "https://localhost:8080/"
        },
        "id": "kl20kKC8zR1N",
        "outputId": "42416504-d9b1-4137-d3f2-998d5fc8c56e"
      },
      "execution_count": null,
      "outputs": [
        {
          "output_type": "stream",
          "name": "stdout",
          "text": [
            "1\n",
            "0\n"
          ]
        }
      ]
    },
    {
      "cell_type": "code",
      "source": [
        "x = 4000\n",
        "n = x % 1000\n",
        "print(n)"
      ],
      "metadata": {
        "colab": {
          "base_uri": "https://localhost:8080/"
        },
        "id": "u29SNXeozYTW",
        "outputId": "9d1ac555-0808-4bf5-e895-8f2eec77fe42"
      },
      "execution_count": null,
      "outputs": [
        {
          "output_type": "stream",
          "name": "stdout",
          "text": [
            "0\n"
          ]
        }
      ]
    },
    {
      "cell_type": "code",
      "source": [
        " # Q32 Sort 3 Integers"
      ],
      "metadata": {
        "id": "HS77ZqV5zqhT"
      },
      "execution_count": null,
      "outputs": []
    },
    {
      "cell_type": "code",
      "source": [
        "n1 = int(input(\"Enter 1st integer: \"))\n",
        "n2 = int(input(\"Enter 2nd integer: \"))\n",
        "n3 = int(input(\"Enter 3rd integer: \"))\n",
        "\n",
        "mx = max(n1,n2,n3)\n",
        "mn = min(n1,n2,n3)\n",
        "mdl = n1 + n2 + n3 - mn - mx\n",
        "\n",
        "print(\"The sorted integers are : \", mn, \" \", mdl, \" \", mx)"
      ],
      "metadata": {
        "colab": {
          "base_uri": "https://localhost:8080/"
        },
        "id": "KtF3y8GNSbPI",
        "outputId": "7c6c90a2-555b-44d2-ff74-80bb77cd4cec"
      },
      "execution_count": null,
      "outputs": [
        {
          "output_type": "stream",
          "name": "stdout",
          "text": [
            "Enter 1st integer: 60\n",
            "Enter 2nd integer: 20\n",
            "Enter 3rd integer: 40\n",
            "The sorted integers are :  20   40   60\n"
          ]
        }
      ]
    },
    {
      "cell_type": "code",
      "source": [
        "# Q33  Day Old Bread"
      ],
      "metadata": {
        "id": "xSb2e_DETM4J"
      },
      "execution_count": null,
      "outputs": []
    },
    {
      "cell_type": "code",
      "source": [
        "price = 3.49\n",
        "old = float(input(\"Enter the number of day old breads : \"))\n",
        "\n",
        "cp = old * price\n",
        "disc = 0.6 * cp\n",
        "total = cp - disc\n",
        "\n",
        "cp = format(cp,\".2f\")\n",
        "disc = format(disc,\".2f\")\n",
        "total = format(total,\".2f\")\n",
        "\n",
        "print (\"Price = $\", cp)\n",
        "print (\"discount  = $\",disc )\n",
        "print (\"total = $\", total)"
      ],
      "metadata": {
        "colab": {
          "base_uri": "https://localhost:8080/"
        },
        "id": "PtNbG8DHTeco",
        "outputId": "94f3f7b9-93ca-4992-c283-8a28689ab2f5"
      },
      "execution_count": null,
      "outputs": [
        {
          "output_type": "stream",
          "name": "stdout",
          "text": [
            "Enter the number of day old breads : 5\n",
            "Price =  17.45\n",
            "discount  =  10.47\n",
            "total =  6.98\n"
          ]
        }
      ]
    },
    {
      "cell_type": "code",
      "source": [
        "price = 3.49\n",
        "old = float(input(\"Enter the number of day old breads : \"))\n",
        "\n",
        "cp = old * price\n",
        "disc = 0.6 * cp\n",
        "total = cp - disc\n",
        "\n",
        "print (\"Price = {:.2f}\".format(cp))\n",
        "print (\"discount  = {:.2f}\".format(disc) )\n",
        "print (\"total = {:.2f}\".format(total))"
      ],
      "metadata": {
        "colab": {
          "base_uri": "https://localhost:8080/"
        },
        "id": "a8Q90qt8WumN",
        "outputId": "06b5b79e-52cd-4a6e-dbbd-6657456f674e"
      },
      "execution_count": null,
      "outputs": [
        {
          "output_type": "stream",
          "name": "stdout",
          "text": [
            "Enter the number of day old breads : 5\n",
            "Price = 17.45\n",
            "discount  = 10.47\n",
            "total = 6.98\n"
          ]
        }
      ]
    }
  ]
}