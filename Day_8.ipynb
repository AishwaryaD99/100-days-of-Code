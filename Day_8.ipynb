{
  "nbformat": 4,
  "nbformat_minor": 0,
  "metadata": {
    "colab": {
      "provenance": [],
      "authorship_tag": "ABX9TyPbsEX3F3iAE5orHLTq/b6N"
    },
    "kernelspec": {
      "name": "python3",
      "display_name": "Python 3"
    },
    "language_info": {
      "name": "python"
    }
  },
  "cells": [
    {
      "cell_type": "markdown",
      "source": [
        "Exercise 1: Calculate the multiplication and sum of two numbers\n",
        "\n",
        "Given two integer numbers return their product only if the product is equal to or lower than 1000, else return their sum."
      ],
      "metadata": {
        "id": "hWPwK5E5xwSl"
      }
    },
    {
      "cell_type": "code",
      "source": [
        "def calc(a,b):\n",
        "  x = a*b\n",
        "  if x <= 1000:\n",
        "    return x\n",
        "  else:\n",
        "    return a + b\n",
        "\n",
        "res = calc(20,30)\n",
        "print(res)\n",
        "\n",
        "res2 = calc(40,30)\n",
        "print(res2)"
      ],
      "metadata": {
        "colab": {
          "base_uri": "https://localhost:8080/"
        },
        "id": "QBdFt6ZFy9yY",
        "outputId": "47bd2a6e-c802-4ddd-f54c-237f23546b3a"
      },
      "execution_count": null,
      "outputs": [
        {
          "output_type": "stream",
          "name": "stdout",
          "text": [
            "600\n",
            "70\n"
          ]
        }
      ]
    },
    {
      "cell_type": "code",
      "source": [],
      "metadata": {
        "id": "-e-TnK8Z4LwC"
      },
      "execution_count": null,
      "outputs": []
    },
    {
      "cell_type": "markdown",
      "source": [
        "Exercise 2: Print the sum of the current number and the previous number\n",
        "\n",
        "Write a program to iterate the first 10 numbers and in each iteration, print the sum of the current and previous number."
      ],
      "metadata": {
        "id": "-OoZt-UIz4fl"
      }
    },
    {
      "cell_type": "code",
      "source": [
        "print(\"Printing current and previous number sum in a range(10) :\")\n",
        "\n",
        "for i in range(1,10):\n",
        "  print(\"current number \"+str(i)+\" prev number \"+str(i-1)+\" sum = \"+str(i+(i-1))+\" \")\n"
      ],
      "metadata": {
        "colab": {
          "base_uri": "https://localhost:8080/"
        },
        "id": "X37laQPmz49y",
        "outputId": "4544993c-5acf-4de4-eef3-449a9c0b284f"
      },
      "execution_count": null,
      "outputs": [
        {
          "output_type": "stream",
          "name": "stdout",
          "text": [
            "Printing current and previous number sum in a range(10) :\n",
            "current number 1 prev number 0 sum = 1 \n",
            "current number 2 prev number 1 sum = 3 \n",
            "current number 3 prev number 2 sum = 5 \n",
            "current number 4 prev number 3 sum = 7 \n",
            "current number 5 prev number 4 sum = 9 \n",
            "current number 6 prev number 5 sum = 11 \n",
            "current number 7 prev number 6 sum = 13 \n",
            "current number 8 prev number 7 sum = 15 \n",
            "current number 9 prev number 8 sum = 17 \n"
          ]
        }
      ]
    },
    {
      "cell_type": "code",
      "source": [
        "print(\"Printing current and previous number and their sum in a range(10)\")\n",
        "for i in range(10):\n",
        "  if i== 0:\n",
        "    k = 0\n",
        "  else :\n",
        "    k = i-1\n",
        "  sum = i+k\n",
        "  print(\"Current number \",i,\" prev number \",k,\" sum : \", sum)"
      ],
      "metadata": {
        "colab": {
          "base_uri": "https://localhost:8080/"
        },
        "id": "eDoKzNAd0kxJ",
        "outputId": "329931fc-f311-4229-a19a-834e9bd6cc74"
      },
      "execution_count": null,
      "outputs": [
        {
          "output_type": "stream",
          "name": "stdout",
          "text": [
            "Printing current and previous number and their sum in a range(10)\n",
            "Current number  0  prev number  0  sum :  0\n",
            "Current number  1  prev number  0  sum :  1\n",
            "Current number  2  prev number  1  sum :  3\n",
            "Current number  3  prev number  2  sum :  5\n",
            "Current number  4  prev number  3  sum :  7\n",
            "Current number  5  prev number  4  sum :  9\n",
            "Current number  6  prev number  5  sum :  11\n",
            "Current number  7  prev number  6  sum :  13\n",
            "Current number  8  prev number  7  sum :  15\n",
            "Current number  9  prev number  8  sum :  17\n"
          ]
        }
      ]
    },
    {
      "cell_type": "code",
      "source": [
        "print(\"Printing current and previous number sum in a range(10) :\")\n",
        "\n",
        "for i in range(10):\n",
        "  if i== 0:\n",
        "    k = 0\n",
        "  else :\n",
        "    k = i-1\n",
        "  print(\"current number \"+str(i)+\" prev number \"+str(k)+\" sum = \"+str(i+k)+\" \")\n"
      ],
      "metadata": {
        "colab": {
          "base_uri": "https://localhost:8080/"
        },
        "id": "XdR0xoxt1jfN",
        "outputId": "2b52c3a6-3b40-4f2d-8235-7170ad539995"
      },
      "execution_count": null,
      "outputs": [
        {
          "output_type": "stream",
          "name": "stdout",
          "text": [
            "Printing current and previous number sum in a range(10) :\n",
            "current number 0 prev number 0 sum = 0 \n",
            "current number 1 prev number 0 sum = 1 \n",
            "current number 2 prev number 1 sum = 3 \n",
            "current number 3 prev number 2 sum = 5 \n",
            "current number 4 prev number 3 sum = 7 \n",
            "current number 5 prev number 4 sum = 9 \n",
            "current number 6 prev number 5 sum = 11 \n",
            "current number 7 prev number 6 sum = 13 \n",
            "current number 8 prev number 7 sum = 15 \n",
            "current number 9 prev number 8 sum = 17 \n"
          ]
        }
      ]
    },
    {
      "cell_type": "code",
      "source": [
        "print(\"Printing current and previous number sum in a range(10) :\")\n",
        "prev = 0\n",
        "\n",
        "for i in range(10):\n",
        "  sum = i + prev\n",
        "  print(\"Current number \",i,\" prev number \",prev,\" sum : \", sum)\n",
        "  prev = i\n"
      ],
      "metadata": {
        "colab": {
          "base_uri": "https://localhost:8080/"
        },
        "id": "K9jq72qf2cqx",
        "outputId": "d4a79a88-05d2-4d5b-a52b-2f5c0d0f093f"
      },
      "execution_count": null,
      "outputs": [
        {
          "output_type": "stream",
          "name": "stdout",
          "text": [
            "Printing current and previous number sum in a range(10) :\n",
            "Current number  0  prev number  0  sum :  0\n",
            "Current number  1  prev number  0  sum :  1\n",
            "Current number  2  prev number  1  sum :  3\n",
            "Current number  3  prev number  2  sum :  5\n",
            "Current number  4  prev number  3  sum :  7\n",
            "Current number  5  prev number  4  sum :  9\n",
            "Current number  6  prev number  5  sum :  11\n",
            "Current number  7  prev number  6  sum :  13\n",
            "Current number  8  prev number  7  sum :  15\n",
            "Current number  9  prev number  8  sum :  17\n"
          ]
        }
      ]
    },
    {
      "cell_type": "code",
      "source": [],
      "metadata": {
        "id": "tnPZdV1X4PPB"
      },
      "execution_count": null,
      "outputs": []
    },
    {
      "cell_type": "markdown",
      "source": [
        "Exercise 3: Print characters from a string that are present at an even index number\n",
        "\n",
        "Write a program to accept a string from the user and display characters that are present at an even index number.\n",
        "\n",
        "For example, str = \"helloworld\" so you should display ‘h’, ‘l’, ‘o’, ‘o’,‘l’."
      ],
      "metadata": {
        "id": "e1mcejje4FtU"
      }
    },
    {
      "cell_type": "code",
      "source": [
        "s = input(\"Enter string : \")\n",
        "print(\"Original string: \", s)\n",
        "print(\"printing only even index chars \")\n",
        "\n",
        "d ={}\n",
        "for n,i in enumerate(s):\n",
        "  d[n]=i\n",
        "for n in d:\n",
        "  if n%2 == 0:\n",
        "    print(d[n])"
      ],
      "metadata": {
        "colab": {
          "base_uri": "https://localhost:8080/"
        },
        "id": "EpiNuKDu3SJV",
        "outputId": "3eb7d7d5-b9e4-4164-c7a5-3021cce75a31"
      },
      "execution_count": null,
      "outputs": [
        {
          "output_type": "stream",
          "name": "stdout",
          "text": [
            "Enter string : helloworld\n",
            "Original string:  helloworld\n",
            "printing only even index chars \n",
            "h\n",
            "l\n",
            "o\n",
            "o\n",
            "l\n"
          ]
        }
      ]
    },
    {
      "cell_type": "code",
      "source": [
        "s = input(\"Enter string : \")\n",
        "print(\"Original string: \", s)\n",
        "print(\"printing only even index chars \")\n",
        "for i in range(len(s)-1):\n",
        "  if i%2 == 0:\n",
        "    print(s[i])"
      ],
      "metadata": {
        "colab": {
          "base_uri": "https://localhost:8080/"
        },
        "id": "JtmS9hpo-Yjc",
        "outputId": "20c98c00-9825-4d7a-d583-c9583fbebffa"
      },
      "execution_count": null,
      "outputs": [
        {
          "output_type": "stream",
          "name": "stdout",
          "text": [
            "Enter string : helloworld\n",
            "Original string:  helloworld\n",
            "printing only even index chars \n",
            "h\n",
            "l\n",
            "o\n",
            "o\n",
            "l\n"
          ]
        }
      ]
    },
    {
      "cell_type": "code",
      "source": [
        "s = input(\"Enter string : \")\n",
        "print(\"Original string: \", s)\n",
        "print(\"printing only even index chars \")\n",
        "n = len(s)\n",
        "for i in range(0,n-1,2):\n",
        "  print(s[i])"
      ],
      "metadata": {
        "colab": {
          "base_uri": "https://localhost:8080/"
        },
        "id": "gyfuZzuRBQ8d",
        "outputId": "52e09519-d14b-4efb-ff32-4dc303a6b08b"
      },
      "execution_count": null,
      "outputs": [
        {
          "output_type": "stream",
          "name": "stdout",
          "text": [
            "Enter string : helloworld\n",
            "Original string:  helloworld\n",
            "printing only even index chars \n",
            "h\n",
            "l\n",
            "o\n",
            "o\n",
            "l\n"
          ]
        }
      ]
    },
    {
      "cell_type": "code",
      "source": [],
      "metadata": {
        "id": "XxIIWDV2Bejt"
      },
      "execution_count": null,
      "outputs": []
    },
    {
      "cell_type": "markdown",
      "source": [
        "Exercise 4: Remove first n characters from a string\n",
        "\n",
        "Write a program to remove characters from a string starting from zero up to n and return a new string.\n",
        "\n",
        "For example:\n",
        "remove_chars(\"helloworld\", 4) so output must be oworld. Here we need to remove first four characters from a string.\n",
        "remove_chars(\"helloworld\", 2) so output must be lloworld. Here we need to remove first two characters from a string."
      ],
      "metadata": {
        "id": "E8lQSMNQBesR"
      }
    },
    {
      "cell_type": "code",
      "source": [
        "def rmv(word, n):\n",
        "  x = word[n:]\n",
        "  return x\n",
        "\n",
        "print(rmv(\"helloworld\",4))\n",
        "print(rmv(\"helloworld\",2))\n"
      ],
      "metadata": {
        "colab": {
          "base_uri": "https://localhost:8080/"
        },
        "id": "WD-ElEcR-1bq",
        "outputId": "1945b78d-8eb5-4bfe-955c-ec9de4ea1c5a"
      },
      "execution_count": null,
      "outputs": [
        {
          "output_type": "stream",
          "name": "stdout",
          "text": [
            "oworld\n",
            "lloworld\n"
          ]
        }
      ]
    },
    {
      "cell_type": "code",
      "source": [
        "l = \"helloworld\"\n",
        "k = l[:3]\n",
        "j = l[3:]\n",
        "print(k,j)"
      ],
      "metadata": {
        "colab": {
          "base_uri": "https://localhost:8080/"
        },
        "id": "iJz9rLUx_sLV",
        "outputId": "dcd14cba-80d1-48ca-eea1-3b244786ebb2"
      },
      "execution_count": null,
      "outputs": [
        {
          "output_type": "stream",
          "name": "stdout",
          "text": [
            "hel loworld\n"
          ]
        }
      ]
    },
    {
      "cell_type": "code",
      "source": [],
      "metadata": {
        "id": "boLusECWC_t0"
      },
      "execution_count": null,
      "outputs": []
    },
    {
      "cell_type": "markdown",
      "source": [
        "Exercise 5: Check if the first and last digit of a number is the same\n",
        "\n",
        "Write a function to return True if the first and last digit of a given number is same. If digits are different then return False."
      ],
      "metadata": {
        "id": "ePqfWdvoC_zl"
      }
    },
    {
      "cell_type": "code",
      "source": [
        "def chk(num):\n",
        "  num = str(num)\n",
        "  f = num[0]\n",
        "  l = num[-1]\n",
        "  if f == l:\n",
        "    return True\n",
        "\n",
        "  else:\n",
        "    return False\n",
        "\n",
        "print(chk(202))\n",
        "print(chk(26702))\n",
        "print(chk(38))\n",
        "print(chk(77776))"
      ],
      "metadata": {
        "id": "eIJ5vGlcDAdI",
        "colab": {
          "base_uri": "https://localhost:8080/"
        },
        "outputId": "6f62d608-2037-4696-912d-be2460839692"
      },
      "execution_count": null,
      "outputs": [
        {
          "output_type": "stream",
          "name": "stdout",
          "text": [
            "True\n",
            "True\n",
            "False\n",
            "False\n"
          ]
        }
      ]
    },
    {
      "cell_type": "code",
      "source": [],
      "metadata": {
        "id": "fRvDzaHDelgi"
      },
      "execution_count": null,
      "outputs": []
    },
    {
      "cell_type": "markdown",
      "source": [
        "Exercise 5: Check if the first and last number of a list is the same\n",
        "\n",
        "Write a function to return True if the first and last number of a given list is same. If numbers are different then return False."
      ],
      "metadata": {
        "id": "55sffAxifRbQ"
      }
    },
    {
      "cell_type": "code",
      "source": [
        "numbers_x = [10, 20, 30, 40, 10]\n",
        "numbers_y = [75, 65, 35, 75, 30]\n",
        "\n",
        "def chk(num):\n",
        "  if num[0] == num[-1]:\n",
        "    return True\n",
        "  else :\n",
        "    return False\n",
        "\n",
        "print(\"Given List is :\",numbers_x)\n",
        "print(\"Result is \",chk(numbers_x))\n",
        "print(\"Given List is :\",numbers_y)\n",
        "print(\"Result is \",chk(numbers_y))"
      ],
      "metadata": {
        "colab": {
          "base_uri": "https://localhost:8080/"
        },
        "id": "FekiaIDmfSMK",
        "outputId": "675d6577-21f6-4e85-c015-3ef524bbb9bb"
      },
      "execution_count": null,
      "outputs": [
        {
          "output_type": "stream",
          "name": "stdout",
          "text": [
            "Given List is : [10, 20, 30, 40, 10]\n",
            "Result is  True\n",
            "Given List is : [75, 65, 35, 75, 30]\n",
            "Result is  False\n"
          ]
        }
      ]
    }
  ]
}