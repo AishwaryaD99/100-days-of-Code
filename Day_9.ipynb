{
  "nbformat": 4,
  "nbformat_minor": 0,
  "metadata": {
    "colab": {
      "provenance": [],
      "authorship_tag": "ABX9TyNdFl+Mkrspr9T3oj3vLUzD"
    },
    "kernelspec": {
      "name": "python3",
      "display_name": "Python 3"
    },
    "language_info": {
      "name": "python"
    }
  },
  "cells": [
    {
      "cell_type": "markdown",
      "source": [
        "Exercise 6: Display numbers divisible by 5 from a list\n",
        "\n",
        "Iterate the given list of numbers and print only those numbers which are divisible by 5"
      ],
      "metadata": {
        "id": "UdrBUm8NFum2"
      }
    },
    {
      "cell_type": "code",
      "source": [
        "l = [10, 20, 33, 46, 55]\n",
        "print(\"Given list is  \",l)\n",
        "print(\"Divisible by 5 :\")\n",
        "for i in l:\n",
        "  if i%5 == 0:\n",
        "    print(i)"
      ],
      "metadata": {
        "colab": {
          "base_uri": "https://localhost:8080/"
        },
        "id": "bQuU7HS9FvdR",
        "outputId": "009f7b77-3328-436c-fb4b-f9acc504774b"
      },
      "execution_count": null,
      "outputs": [
        {
          "output_type": "stream",
          "name": "stdout",
          "text": [
            "Given list is   [10, 20, 33, 46, 55]\n",
            "Divisible by 5 :\n",
            "10\n",
            "20\n",
            "55\n"
          ]
        }
      ]
    },
    {
      "cell_type": "code",
      "source": [],
      "metadata": {
        "id": "Cqqjtlt4F-Wz"
      },
      "execution_count": null,
      "outputs": []
    },
    {
      "cell_type": "markdown",
      "source": [
        "Exercise 7: Return the count of a given substring from a string\n",
        "\n",
        "Write a program to find how many times substring “Rue” appears in the given string.\n",
        "\n",
        "Given:\n",
        "\n",
        "str_x = \"rue is good developer. rue is a writer\"\n",
        "\n",
        "Expected Output:\n",
        "\n",
        "rue appeared 2 times"
      ],
      "metadata": {
        "id": "QZogw78qGTuf"
      }
    },
    {
      "cell_type": "code",
      "source": [
        "x = \"rue is good developer. rue is a writer\"\n",
        "num = x.count(\"rue\")\n",
        "print(\"rue appeared \", num,\" times\")"
      ],
      "metadata": {
        "colab": {
          "base_uri": "https://localhost:8080/"
        },
        "id": "Njp9fc4AGUVr",
        "outputId": "d9813de7-afce-4e75-8422-fee0f7f59e63"
      },
      "execution_count": null,
      "outputs": [
        {
          "output_type": "stream",
          "name": "stdout",
          "text": [
            "rue appeared  2  times\n"
          ]
        }
      ]
    },
    {
      "cell_type": "code",
      "source": [],
      "metadata": {
        "id": "4vw4Xg4ZG0Mr"
      },
      "execution_count": null,
      "outputs": []
    },
    {
      "cell_type": "markdown",
      "source": [
        "Exercise 8: Print the following pattern\n",
        "\n",
        "\n",
        "\n",
        "```\n",
        "1\n",
        "2 2\n",
        "3 3 3\n",
        "4 4 4 4\n",
        "5 5 5 5 5\n",
        "```\n",
        "\n",
        "\n",
        "\n",
        "\n",
        "\n"
      ],
      "metadata": {
        "id": "RZt72cSgHCLO"
      }
    },
    {
      "cell_type": "code",
      "source": [
        "x = 0\n",
        "for i in range(1,6):\n",
        "  for j in range(i):\n",
        "    print(i,end = \" \")\n",
        "  print(\"\\n\")"
      ],
      "metadata": {
        "colab": {
          "base_uri": "https://localhost:8080/"
        },
        "id": "bZNtonGOHC0z",
        "outputId": "247a87c4-55fd-4332-c1d0-98780a7e83a8"
      },
      "execution_count": null,
      "outputs": [
        {
          "output_type": "stream",
          "name": "stdout",
          "text": [
            "1 \n",
            "\n",
            "2 2 \n",
            "\n",
            "3 3 3 \n",
            "\n",
            "4 4 4 4 \n",
            "\n",
            "5 5 5 5 5 \n",
            "\n"
          ]
        }
      ]
    },
    {
      "cell_type": "code",
      "source": [],
      "metadata": {
        "id": "liR7_dc8HmXf"
      },
      "execution_count": null,
      "outputs": []
    },
    {
      "cell_type": "markdown",
      "source": [
        "Exercise 9: Check Palindrome Number\n",
        "\n",
        "Write a program to check if the given number is a palindrome number.\n",
        "\n",
        "A palindrome number is a number that is same after reverse. For example 545, is the palindrome numbers"
      ],
      "metadata": {
        "id": "8YVuPhhBIFWf"
      }
    },
    {
      "cell_type": "code",
      "source": [
        "\n",
        "print(\"original number \",x)\n",
        "\n",
        "def pal(x):\n",
        "  o = x\n",
        "  rev = 0\n",
        "  while x > 0:\n",
        "    rem = x%10\n",
        "    rev = (rev*10) + rem\n",
        "    x =  x//10\n",
        "  if o == rev:\n",
        "    print(\"Yes. given number is palindrome number\")\n",
        "  else:\n",
        "    print(\"No. given number is not palindrome number\")\n",
        "\n",
        "pal(545)\n",
        "\n",
        "\n"
      ],
      "metadata": {
        "colab": {
          "base_uri": "https://localhost:8080/"
        },
        "id": "7Yi-1C1cIGMZ",
        "outputId": "ca8cd5c2-d5d8-4c78-8393-de1f1e908ccc"
      },
      "execution_count": null,
      "outputs": [
        {
          "output_type": "stream",
          "name": "stdout",
          "text": [
            "original number  545\n",
            "Yes. given number is palindrome number\n"
          ]
        }
      ]
    },
    {
      "cell_type": "code",
      "source": [],
      "metadata": {
        "id": "UY5571g1IR2O"
      },
      "execution_count": null,
      "outputs": []
    },
    {
      "cell_type": "markdown",
      "source": [
        "Exercise 10: Create a new list from a two list using the following condition\n",
        "\n",
        "Create a new list from a two list using the following condition\n",
        "\n",
        "Given a two list of numbers, write a program to create a new list such that the new list should contain odd numbers from the first list and even numbers from the second list.\n",
        "\n",
        "Given:\n",
        "\n",
        "list1 = [10, 20, 25, 30, 35]\n",
        "list2 = [40, 45, 60, 75, 90]\n",
        "\n",
        "Expected Output:\n",
        "\n",
        "result list: [25, 35, 40, 60, 90]"
      ],
      "metadata": {
        "id": "Ty3WBhFPOYtK"
      }
    },
    {
      "cell_type": "code",
      "source": [
        "def merger(l1,l2):\n",
        "  l3 = []\n",
        "  for i in l1:\n",
        "    if i%2 == 0:\n",
        "      x = True\n",
        "    else:\n",
        "      l3.append(i)\n",
        "\n",
        "  for l in l2:\n",
        "    if l%2==0:\n",
        "      l3.append(l)\n",
        "  return l3\n",
        "\n",
        "list1 = [10, 20, 25, 30, 35]\n",
        "list2 = [40, 45, 60, 75, 90]\n",
        "print(merger(list1,list2))"
      ],
      "metadata": {
        "colab": {
          "base_uri": "https://localhost:8080/"
        },
        "id": "Huwy0y7uOaXy",
        "outputId": "44e4a87c-761a-43ed-c84c-b0ca9f2c61c3"
      },
      "execution_count": null,
      "outputs": [
        {
          "output_type": "stream",
          "name": "stdout",
          "text": [
            "[25, 35, 40, 60, 90]\n"
          ]
        }
      ]
    },
    {
      "cell_type": "code",
      "source": [],
      "metadata": {
        "id": "vmpMkCbUO3fF"
      },
      "execution_count": null,
      "outputs": []
    },
    {
      "cell_type": "markdown",
      "source": [
        "Exercise 11: Write a Program to extract each digit from an integer in the reverse order.\n",
        "\n",
        "For example, If the given int is 7536, the output shall be “6 3 5 7“, with a space separating the digits."
      ],
      "metadata": {
        "id": "qxc6ndXCPdTj"
      }
    },
    {
      "cell_type": "code",
      "source": [
        "x = 7536\n",
        "print(\"Given number\", x)\n",
        "while x>0:\n",
        "  rem = x % 10\n",
        "  print(rem, end = \" \")\n",
        "  x = x // 10\n",
        "\n"
      ],
      "metadata": {
        "colab": {
          "base_uri": "https://localhost:8080/"
        },
        "id": "anFkQsf7PeIt",
        "outputId": "214e6f54-10ff-49f3-f0f1-e657c8a2d3a4"
      },
      "execution_count": null,
      "outputs": [
        {
          "output_type": "stream",
          "name": "stdout",
          "text": [
            "Given number 7536\n",
            "6 3 5 7 "
          ]
        }
      ]
    },
    {
      "cell_type": "code",
      "source": [],
      "metadata": {
        "id": "wrx11dmLUos1"
      },
      "execution_count": null,
      "outputs": []
    },
    {
      "cell_type": "code",
      "source": [],
      "metadata": {
        "id": "T9di1MWbVAKB"
      },
      "execution_count": null,
      "outputs": []
    },
    {
      "cell_type": "markdown",
      "source": [
        "Exercise 12: Calculate income tax for the given income by adhering to the below rules\n",
        "\n",
        "Expected Output:\n",
        "![image.png](data:image/png;base64,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)\n",
        "\n",
        "For example, suppose the taxable income is 45000 the income tax payable is\n",
        "\n",
        "10000 * 0% + 10000 * 10% + 25000 * 20% = $6000."
      ],
      "metadata": {
        "id": "aa3ajyG-VOfy"
      }
    },
    {
      "cell_type": "code",
      "source": [
        "i = 45000\n",
        "\n",
        "if i < 10000 :\n",
        "  tax = 0\n",
        "elif i > 20000 :\n",
        "  r = i - 20000\n",
        "  tax = 10000 * 10 + r * 20\n",
        "else :\n",
        "\n"
      ],
      "metadata": {
        "id": "CdRGJa0PVZAE"
      },
      "execution_count": null,
      "outputs": []
    }
  ]
}