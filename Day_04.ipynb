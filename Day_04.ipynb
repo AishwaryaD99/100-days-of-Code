{
  "nbformat": 4,
  "nbformat_minor": 0,
  "metadata": {
    "colab": {
      "provenance": [],
      "authorship_tag": "ABX9TyNDUD7el2lRV7k9H5RsXmXx"
    },
    "kernelspec": {
      "name": "python3",
      "display_name": "Python 3"
    },
    "language_info": {
      "name": "python"
    }
  },
  "cells": [
    {
      "cell_type": "code",
      "execution_count": null,
      "metadata": {
        "id": "xwcGSggNKwTT"
      },
      "outputs": [],
      "source": [
        "# Q34 Even or Odd?"
      ]
    },
    {
      "cell_type": "code",
      "source": [
        "n = int(input(\"Enter an integer : \"))\n",
        "\n",
        "if n % 2 == 0:\n",
        "  print(\"The number is even \")\n",
        "else :\n",
        "  print(\"The integer is odd \")"
      ],
      "metadata": {
        "colab": {
          "base_uri": "https://localhost:8080/"
        },
        "id": "9yUh8FqILmve",
        "outputId": "51670a5d-4713-42e7-e231-cb98b1e9d364"
      },
      "execution_count": null,
      "outputs": [
        {
          "output_type": "stream",
          "name": "stdout",
          "text": [
            "Enter an integer : 5\n",
            "The integer is odd \n"
          ]
        }
      ]
    },
    {
      "cell_type": "code",
      "source": [
        "# Q35 Dog Years"
      ],
      "metadata": {
        "id": "Kvtt4XcKL9RP"
      },
      "execution_count": null,
      "outputs": []
    },
    {
      "cell_type": "code",
      "source": [
        "hyr = eval(input(\"Enter the age of dog :\"))\n",
        "\n",
        "if hyr <= 2 :\n",
        "  dg = hyr * 10.5\n",
        "elif hyr > 2 :\n",
        "  dg = hyr * 7\n",
        "elif hyr < 0 :\n",
        "  print(\"Please enter a positive integer \")\n",
        "\n",
        "print(\"The age of your dog in dog years is : \", dg)\n"
      ],
      "metadata": {
        "colab": {
          "base_uri": "https://localhost:8080/"
        },
        "id": "9emVmSmTMFau",
        "outputId": "ca622fe4-1cc7-48ed-c606-adf08a606561"
      },
      "execution_count": null,
      "outputs": [
        {
          "output_type": "stream",
          "name": "stdout",
          "text": [
            "Enter the age of dog :2\n",
            "The age of your dog in dog years is :  21.0\n"
          ]
        }
      ]
    },
    {
      "cell_type": "code",
      "source": [
        "# Q36 Vowel or Consonant\n"
      ],
      "metadata": {
        "id": "K_gN7RgVNmTT"
      },
      "execution_count": null,
      "outputs": []
    },
    {
      "cell_type": "code",
      "source": [
        "x = input(\"Enter a letter of the alphabet : \")\n",
        "\n",
        "if x == 'a' or x == 'e' or x == 'i' or x == 'o' or x == 'u' :\n",
        "  print(\"The letter you have entered \",x,\" is a vowel \")\n",
        "elif x == 'y' :\n",
        "  print(\"The letter you have entered \",x,\" can be a vowel sometimes and sometimes a consonant  \")\n",
        "else :\n",
        "  print(\"The letter you have entered \",x,\" is a consonant \")\n"
      ],
      "metadata": {
        "colab": {
          "base_uri": "https://localhost:8080/"
        },
        "id": "FFRxglk0ORWd",
        "outputId": "98c06570-83aa-4ea4-efd4-ae4ff8e9f784"
      },
      "execution_count": null,
      "outputs": [
        {
          "output_type": "stream",
          "name": "stdout",
          "text": [
            "Enter a letter of the alphabet : e\n",
            "The letter you have entered  e  is a vowel \n"
          ]
        }
      ]
    },
    {
      "cell_type": "code",
      "source": [
        "# Q37 Name that Shape"
      ],
      "metadata": {
        "id": "lRKblahOPm1y"
      },
      "execution_count": null,
      "outputs": []
    },
    {
      "cell_type": "code",
      "source": [
        "x = int(input(\"Enter the number of sides : \"))\n",
        "\n",
        "if x == 3 :\n",
        "  print(\"This is a triangle \")\n",
        "elif x == 4 :\n",
        "  print(\"This is a square \")\n",
        "elif x == 5 :\n",
        "  print(\"This is a pentagon \")\n",
        "elif x == 6 :\n",
        "  print(\"This is a hexagon \")\n",
        "elif x == 7 :\n",
        "  print(\"This is a heptagon \")\n",
        "elif x == 8 :\n",
        "  print(\"This is a octagon \")\n",
        "elif x == 9 :\n",
        "  print(\"This is a nonagon \")\n",
        "elif x == 10 :\n",
        "  print(\"This is a decagon \")\n",
        "else :\n",
        "  print(\"Please enter a number between 3 and 10 \")\n",
        "\n"
      ],
      "metadata": {
        "colab": {
          "base_uri": "https://localhost:8080/"
        },
        "id": "cXxm-E2WQURj",
        "outputId": "b4e11bd5-9ba7-4c63-b936-046a5d113065"
      },
      "execution_count": null,
      "outputs": [
        {
          "output_type": "stream",
          "name": "stdout",
          "text": [
            "Enter the number of sides : 5\n",
            "This is a pentagon \n"
          ]
        }
      ]
    },
    {
      "cell_type": "code",
      "source": [
        "# Q38 Month Name to Number of Days"
      ],
      "metadata": {
        "id": "ippdaT0HSUMo"
      },
      "execution_count": null,
      "outputs": []
    },
    {
      "cell_type": "code",
      "source": [
        "month = input(\"Enter a month : \")\n",
        "\n",
        "if month == \"september\" or month == \"april\" or month == \"june\" or month == \"november\" :\n",
        "  print(month, \" has 30 days\")\n",
        "elif month == \"february\" :\n",
        "  print(month, \" has 28 or 29 days\")\n",
        "else :\n",
        "  print(month, \" has 31 days\")"
      ],
      "metadata": {
        "colab": {
          "base_uri": "https://localhost:8080/"
        },
        "id": "J7fXQilSSg8C",
        "outputId": "d6c68ff7-31a9-4104-976a-86eef9f488c1"
      },
      "execution_count": null,
      "outputs": [
        {
          "output_type": "stream",
          "name": "stdout",
          "text": [
            "Enter a month : january\n",
            "january  has 31 days\n"
          ]
        }
      ]
    },
    {
      "cell_type": "code",
      "source": [],
      "metadata": {
        "id": "i1R-DI5nbtXd"
      },
      "execution_count": null,
      "outputs": []
    }
  ]
}