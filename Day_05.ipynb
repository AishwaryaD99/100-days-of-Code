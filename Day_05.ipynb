{
  "nbformat": 4,
  "nbformat_minor": 0,
  "metadata": {
    "colab": {
      "provenance": [],
      "authorship_tag": "ABX9TyP29ALbw/CZgv15wKa8vEA/"
    },
    "kernelspec": {
      "name": "python3",
      "display_name": "Python 3"
    },
    "language_info": {
      "name": "python"
    }
  },
  "cells": [
    {
      "cell_type": "code",
      "source": [
        "# Q39 Sound Levels"
      ],
      "metadata": {
        "id": "wMkrNn8KP30V"
      },
      "execution_count": 1,
      "outputs": []
    },
    {
      "cell_type": "code",
      "execution_count": null,
      "metadata": {
        "colab": {
          "base_uri": "https://localhost:8080/"
        },
        "id": "eViMj6wJM7xx",
        "outputId": "4274db41-924a-408a-f861-3aa64cadbb2d"
      },
      "outputs": [
        {
          "output_type": "stream",
          "name": "stdout",
          "text": [
            "Enter decibel : 500\n",
            "Ear shattering noise\n"
          ]
        }
      ],
      "source": [
        "decibel = int(input(\"Enter decibel : \"))\n",
        "\n",
        "if decibel == 130 :\n",
        "  print(\"loud like a Jackhammer\")\n",
        "elif decibel == 106 :\n",
        "  print(\"loud like a Gas lawnmower\")\n",
        "elif decibel < 130 and decibel > 106 :\n",
        "  print(\"Between jackhammer and gas lawnmower\")\n",
        "elif decibel == 70:\n",
        "  print(\"loud like an Alarm clock\")\n",
        "elif decibel < 106 and decibel > 70 :\n",
        "  print(\"Between gas lawnmower and Alarm clock\")\n",
        "elif decibel == 40 :\n",
        "  print(\"quiet like a quiet room\")\n",
        "elif decibel < 70 and decibel > 40 :\n",
        "  print(\"Between Alarm clock and quiet room\")\n",
        "elif decibel < 40 :\n",
        "  print(\"Too quiet to sound like anything\")\n",
        "elif decibel > 160 :\n",
        "  print(\"Ear shattering noise\")\n"
      ]
    },
    {
      "cell_type": "code",
      "source": [
        "# Q40 Name that Triangle"
      ],
      "metadata": {
        "id": "FE57tBVKQNiH"
      },
      "execution_count": null,
      "outputs": []
    },
    {
      "cell_type": "code",
      "source": [
        "l1 = int(input(\"Enter length of 1st side of triangle : \"))\n",
        "l2 = int(input(\"Enter length of 2nd side of triangle : \"))\n",
        "l3 = int(input(\"Enter length of 3rd side of triangle : \"))\n",
        "\n",
        "if l1 == l2 and l1 == l3 :\n",
        "  print(\"This is an equilateral triangle \")\n",
        "elif l1 == l2 or l1 == l3 or l2 == l3 :\n",
        "  print(\"This is an isosceles triangle \")\n",
        "else :\n",
        "  print(\"This is a scalene triangle \")\n"
      ],
      "metadata": {
        "colab": {
          "base_uri": "https://localhost:8080/"
        },
        "id": "X9JA5v_KQTtl",
        "outputId": "9b0cab09-70f3-444f-b9f5-089b63e04397"
      },
      "execution_count": null,
      "outputs": [
        {
          "output_type": "stream",
          "name": "stdout",
          "text": [
            "Enter length of 1st side of triangle : 6\n",
            "Enter length of 2nd side of triangle : 4\n",
            "Enter length of 3rd side of triangle : 4\n",
            "This is an isosceles triangle \n"
          ]
        }
      ]
    },
    {
      "cell_type": "code",
      "source": [
        "# Q44 Date to Holiday Name"
      ],
      "metadata": {
        "id": "nBt-DDT5YgRX"
      },
      "execution_count": null,
      "outputs": []
    },
    {
      "cell_type": "code",
      "source": [
        "month = int(input(\"Enter month(number) :  \"))\n",
        "day = int(input(\"Enter day(number) : \"))\n",
        "\n",
        "if month == 1 :\n",
        "  if day == 1 :\n",
        "    print(\"New year's day!\")\n",
        "elif month == 7 :\n",
        "  if day == 1 :\n",
        "    print(\"Canada day!\")\n",
        "elif month == 12 :\n",
        "  if day == 25 :\n",
        "    print(\"Christmas day!\")\n",
        "else :\n",
        "  print(\"The date entered does not correspond to a fixed date holiday :( \")\n",
        "\n",
        "\n"
      ],
      "metadata": {
        "id": "yeURefofYuxs",
        "colab": {
          "base_uri": "https://localhost:8080/"
        },
        "outputId": "a40ca5ad-f715-4b87-dff3-d82ec455a917"
      },
      "execution_count": null,
      "outputs": [
        {
          "output_type": "stream",
          "name": "stdout",
          "text": [
            "Enter month(number) :  1\n",
            "Enter day(number) : 1\n",
            "New year's day!\n"
          ]
        }
      ]
    },
    {
      "cell_type": "code",
      "source": [
        "month = int(input(\"Enter month(number) :  \"))\n",
        "day = int(input(\"Enter day(number) : \"))\n",
        "\n",
        "if month == 1 and day == 1 :\n",
        "  print(\"New year's day!\")\n",
        "elif month == 7 and day == 1 :\n",
        "  print(\"Canada day!\")\n",
        "elif month == 12  and day == 25 :\n",
        "    print(\"Christmas day!\")\n",
        "else :\n",
        "  print(\"The date entered does not correspond to a fixed date holiday :( \")\n",
        "\n"
      ],
      "metadata": {
        "colab": {
          "base_uri": "https://localhost:8080/"
        },
        "id": "HMcuvuxVHvLA",
        "outputId": "a27e48e2-1f71-450a-92fc-a8231017b131"
      },
      "execution_count": null,
      "outputs": [
        {
          "output_type": "stream",
          "name": "stdout",
          "text": [
            "Enter month(number) :  1\n",
            "Enter day(number) : 6\n",
            "The date entered does not correspond to a fixed date holiday :( \n"
          ]
        }
      ]
    },
    {
      "cell_type": "code",
      "source": [
        "# Q45 What Color is that Square?"
      ],
      "metadata": {
        "id": "BGMF4wLmHRWU"
      },
      "execution_count": null,
      "outputs": []
    },
    {
      "cell_type": "code",
      "source": [
        "pos = input(\"Enter position on chess board (like a1) : \")\n",
        "col = pos[0]\n",
        "row = pos[1]\n",
        "print(col)\n",
        "print(row)"
      ],
      "metadata": {
        "colab": {
          "base_uri": "https://localhost:8080/"
        },
        "id": "7VX2lhJfH-WA",
        "outputId": "d66dd904-2247-41da-fc8f-70f8b417340f"
      },
      "execution_count": null,
      "outputs": [
        {
          "output_type": "stream",
          "name": "stdout",
          "text": [
            "Enter position on chess board (like a1) : c6\n",
            "c\n",
            "6\n"
          ]
        }
      ]
    },
    {
      "cell_type": "code",
      "source": [
        "n = input(\"Enter the position : \")\n",
        "l = n[0].lower()\n",
        "nu = n[1]\n",
        "\n",
        "if l in 'aceg':\n",
        "  if nu in '13579':\n",
        "    print(\"The square is Black\")\n",
        "  else :\n",
        "    print(\"The square is White\")\n",
        "else :\n",
        "  if nu in '2468':\n",
        "    print(\"The square is Black\")\n",
        "  else :\n",
        "    print(\"The square is White\")"
      ],
      "metadata": {
        "colab": {
          "base_uri": "https://localhost:8080/"
        },
        "id": "HH21DTFNKAr2",
        "outputId": "06b5da3f-f727-4da9-f057-3e9aef4530af"
      },
      "execution_count": null,
      "outputs": [
        {
          "output_type": "stream",
          "name": "stdout",
          "text": [
            "Enter the position : g7\n",
            "The square is Black\n"
          ]
        }
      ]
    },
    {
      "cell_type": "code",
      "source": [
        "# Q46 Season from Month and Day"
      ],
      "metadata": {
        "id": "53RUCuAsMk5T"
      },
      "execution_count": null,
      "outputs": []
    },
    {
      "cell_type": "code",
      "source": [
        "day = input(\"Enter day : \" ).split(\" \")\n",
        "m = day[0].lower()\n",
        "d = int(day[1])\n",
        "\n",
        "if m == \"april\" or m == \"may\" or (m == \"march\" and d >= 20) or (m == \"june\" and d<21):\n",
        "    print(\"Its Spring !!!!\")\n",
        "elif m == \"july\" or m == \"august\" or (m == \"june\" and d >= 21) or (m == \"september\" and d<22):\n",
        "  print(\"Its Summer !!!\")\n",
        "elif m == \"october\" or m == \"november\" or (m == \"september\" and d >= 22) or (m == \"december\" and d<21):\n",
        "  print(\"Its Fall !!!!!!\")\n",
        "\n",
        "elif m == \"january\" or m == \"february\" or (m == \"december\" and d >= 22) or (m == \"march\" and d<21):\n",
        "  print(\"Its Winter !!\")\n",
        "else :\n",
        "  print(\"The date you entered is invalid\")"
      ],
      "metadata": {
        "colab": {
          "base_uri": "https://localhost:8080/"
        },
        "id": "XPHdJnqWNpgL",
        "outputId": "cb51749a-21ff-489e-8362-7eec3c1c1567"
      },
      "execution_count": null,
      "outputs": [
        {
          "output_type": "stream",
          "name": "stdout",
          "text": [
            "Enter day : OctObeR 14\n",
            "Its Fall !!!!!!\n"
          ]
        }
      ]
    },
    {
      "cell_type": "code",
      "source": [
        "month =int(input(\"Enter month (eg : 6 for June)\"))\n",
        "day = int(input(\"Enter day(integer)\"))\n",
        "\n",
        "if month == 4 or month == 5 :\n",
        "  print(\"Its Spring !!\")\n",
        "elif month == 3 :\n",
        "  if day >20 :\n",
        "    print(\"Its Spring!!\")\n",
        "  else :\n",
        "    print(\"Its winter!!\")\n",
        "elif month == 6 :\n",
        "  if day < 21 :\n",
        "    print(\"Its Spring!!\")\n",
        "  else :\n",
        "    print(\"Its summer!!\")\n",
        "elif month == 8 or month == 9 :\n",
        "  print(\"Its Summer !!\")\n",
        "elif month == 9 :\n",
        "  if day < 22 :\n",
        "    print(\"Its Summer!!\")\n",
        "  else :\n",
        "    print(\"Its Fall!!\")\n",
        "elif month == 10 or month == 11 :\n",
        "  print(\"Its Fall !!\")\n",
        "elif month == 12 :\n",
        "  if day < 21 :\n",
        "    print(\"Its Fall!!\")\n",
        "  else :\n",
        "    print(\"Its Winter!!\")\n",
        "elif month == 1 or month ==2 :\n",
        "  print(\"Its Winter !!\")\n",
        "else :\n",
        "  print(\"The date you entered is invalid!!\")"
      ],
      "metadata": {
        "colab": {
          "base_uri": "https://localhost:8080/"
        },
        "id": "p0LKq2L5d5Qa",
        "outputId": "b7e6f6c6-d812-4177-f609-5ab9234e4865"
      },
      "execution_count": null,
      "outputs": [
        {
          "output_type": "stream",
          "name": "stdout",
          "text": [
            "Enter month (eg : 6 for June)3\n",
            "Enter day(integer)5\n",
            "Its winter!!\n"
          ]
        }
      ]
    }
  ]
}