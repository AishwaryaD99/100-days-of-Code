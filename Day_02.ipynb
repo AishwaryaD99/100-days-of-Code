{
  "nbformat": 4,
  "nbformat_minor": 0,
  "metadata": {
    "colab": {
      "provenance": [],
      "authorship_tag": "ABX9TyPAMbHv8sSu9oRRSS4Y1SPH"
    },
    "kernelspec": {
      "name": "python3",
      "display_name": "Python 3"
    },
    "language_info": {
      "name": "python"
    }
  },
  "cells": [
    {
      "cell_type": "code",
      "execution_count": null,
      "metadata": {
        "id": "bCRq-8-EzT4C"
      },
      "outputs": [],
      "source": [
        "# Q 11 Fuel Efficiency"
      ]
    },
    {
      "cell_type": "code",
      "source": [
        "mpg = eval(input(\"Enter the fuel efficiency in MPG : \"))\n",
        "canadaian_units = 235.21/mpg\n",
        "print( \" The fuel efficiency in Canadian units is : \",canadaian_units )"
      ],
      "metadata": {
        "colab": {
          "base_uri": "https://localhost:8080/"
        },
        "id": "XiVFWoXq0NlR",
        "outputId": "a8f5e660-278d-47ce-f7de-5f6fed2379df"
      },
      "execution_count": null,
      "outputs": [
        {
          "output_type": "stream",
          "name": "stdout",
          "text": [
            "Enter the fuel efficiency in MPG : 70\n",
            " The fuel efficiency in Canadian units is :  3.3601428571428573\n"
          ]
        }
      ]
    },
    {
      "cell_type": "code",
      "source": [
        "# Q 12 Distance Between Two Points on Earth"
      ],
      "metadata": {
        "id": "C2F-PiTU1HBi"
      },
      "execution_count": null,
      "outputs": []
    },
    {
      "cell_type": "code",
      "source": [
        "import math\n",
        "t1 = eval(input(\"Enter longitude of 1st point : \"))\n",
        "g1 = eval(input(\"Enter latitude of 1st point : \"))\n",
        "\n",
        "t2 = eval(input(\"Enter longitude of 2nd point : \"))\n",
        "g2 = eval(input(\"Enter latitude of 2nd point : \"))\n",
        "\n",
        "dist = 6371.01 * math.acos(math.sin(math.radians(t2)) * math.sin(math.radians(t2)) + math.cos(math.radians(t1)) * math.cos(math.radians(t2)) * math.cos(math.radians(g1) - math.radians(g2)))\n",
        "dist = format(dist, \".4f\")\n",
        "print( \"The distance is : \", dist, \"km\")"
      ],
      "metadata": {
        "colab": {
          "base_uri": "https://localhost:8080/"
        },
        "id": "ggkel8iXz_It",
        "outputId": "d17cab51-3916-467d-faa1-392958f62b50"
      },
      "execution_count": null,
      "outputs": [
        {
          "output_type": "stream",
          "name": "stdout",
          "text": [
            "Enter longitude of 1st point : 40\n",
            "Enter latitude of 1st point : 60\n",
            "Enter longitude of 2nd point : 50\n",
            "Enter latitude of 2nd point : 20\n",
            "The distance is :  1714.0367 km\n"
          ]
        }
      ]
    },
    {
      "cell_type": "code",
      "source": [
        "# Q14 Height Units"
      ],
      "metadata": {
        "id": "dIn5Zl3Y37f0"
      },
      "execution_count": null,
      "outputs": []
    },
    {
      "cell_type": "code",
      "source": [
        "feet = int(input(\"Enter height in feet : \"))\n",
        "inches = int(input(\"Enter number of inches : \"))\n",
        "cm = (feet *12 + inches )*2.54\n",
        "print( \" your height in cm is : \", cm , \" cm\")\n"
      ],
      "metadata": {
        "colab": {
          "base_uri": "https://localhost:8080/"
        },
        "id": "QQ0Okvi7469y",
        "outputId": "283ed505-cc47-413f-88ae-492c3dfb946b"
      },
      "execution_count": null,
      "outputs": [
        {
          "output_type": "stream",
          "name": "stdout",
          "text": [
            "Enter height in feet : 5\n",
            "Enter number of inches : 6\n",
            " your height in cm is :  167.64000000000001  cm\n"
          ]
        }
      ]
    },
    {
      "cell_type": "code",
      "source": [
        "# Q15  Distance Units"
      ],
      "metadata": {
        "id": "_pQvnDT49x5e"
      },
      "execution_count": null,
      "outputs": []
    },
    {
      "cell_type": "code",
      "source": [
        "feet = int(input(\"Enter distance in feet : \"))\n",
        "inch = feet * 12\n",
        "yards = feet/3\n",
        "miles = feet/5280\n",
        "print( \"distance in inches = \", inch)\n",
        "print( \"distance in yards = \", yards)\n",
        "print( \"distance in miles = \", miles)"
      ],
      "metadata": {
        "colab": {
          "base_uri": "https://localhost:8080/"
        },
        "id": "86fO7_0D-Ns0",
        "outputId": "0b1c56ac-9b04-4d65-b88f-c53dbd229fe6"
      },
      "execution_count": null,
      "outputs": [
        {
          "output_type": "stream",
          "name": "stdout",
          "text": [
            "Enter distance in feet : 5000\n",
            "distance in inches =  60000\n",
            "distance in yards =  1666.6666666666667\n",
            "distance in miles =  0.946969696969697\n"
          ]
        }
      ]
    },
    {
      "cell_type": "code",
      "source": [
        "# Q16 Area and Volume"
      ],
      "metadata": {
        "id": "bEAhHvP4_Don"
      },
      "execution_count": null,
      "outputs": []
    },
    {
      "cell_type": "code",
      "source": [
        "import math\n",
        "r = eval(input(\"Enter radius : \"))\n",
        "circle = math.pi * r * r\n",
        "circle = format(circle, \".3f\")\n",
        "sphere = 4/3 * math.pi * r*r*r\n",
        "sphere = format(sphere, \".3f\")\n",
        "print( \"area of circle = \", circle, \" sq cms\")\n",
        "print( \"area of sphere = \", sphere, \" cubic cms\")"
      ],
      "metadata": {
        "colab": {
          "base_uri": "https://localhost:8080/"
        },
        "id": "SU5ga8zL_hI8",
        "outputId": "0d308f2c-237f-4eb7-cb27-12632caebd1f"
      },
      "execution_count": null,
      "outputs": [
        {
          "output_type": "stream",
          "name": "stdout",
          "text": [
            "Enter radius : 5\n",
            "area of circle =  78.540  sq cms\n",
            "area of sphere =  523.599  cubic cms\n"
          ]
        }
      ]
    },
    {
      "cell_type": "code",
      "source": [
        "# Q18 Volume of a Cylinder"
      ],
      "metadata": {
        "id": "UKsF-P_FDrno"
      },
      "execution_count": null,
      "outputs": []
    },
    {
      "cell_type": "code",
      "source": [
        "import math\n",
        "r = eval(input(\"Enter the radius : \"))\n",
        "h = eval(input('enter the height : '))\n",
        "vol = math.pi * r*r* h\n",
        "vol = format( vol, \".1f\")\n",
        "print (\"Volume of cylinder = \", vol)"
      ],
      "metadata": {
        "colab": {
          "base_uri": "https://localhost:8080/"
        },
        "id": "CptqFLK9E00w",
        "outputId": "13b64ef4-13fb-40e9-98f7-a513dac431db"
      },
      "execution_count": null,
      "outputs": [
        {
          "output_type": "stream",
          "name": "stdout",
          "text": [
            "Enter the radius : 5\n",
            "enter the height : 6\n",
            "Volume of cylinder =  471.2\n"
          ]
        }
      ]
    },
    {
      "cell_type": "code",
      "source": [
        "# Q19  Free Fall\n"
      ],
      "metadata": {
        "id": "Slh8X6w2HAx3"
      },
      "execution_count": null,
      "outputs": []
    },
    {
      "cell_type": "code",
      "source": [
        "import math\n",
        "h = eval(input(\"Enter height : \"))\n",
        "u = 0\n",
        "a = 9.8\n",
        "v = math.sqrt(u*u + 2 * a * h )\n",
        "print( \"final speed = \", v , \" m/s\")"
      ],
      "metadata": {
        "colab": {
          "base_uri": "https://localhost:8080/"
        },
        "id": "qQ3qzNJsUOP2",
        "outputId": "faabc055-2818-4344-b159-e25c0152d438"
      },
      "execution_count": null,
      "outputs": [
        {
          "output_type": "stream",
          "name": "stdout",
          "text": [
            "Enter height : 5\n",
            "final speed =  9.899494936611665  m/s\n"
          ]
        }
      ]
    },
    {
      "cell_type": "code",
      "source": [
        "# Q20"
      ],
      "metadata": {
        "id": "gfGVLpqnWVo3"
      },
      "execution_count": null,
      "outputs": []
    },
    {
      "cell_type": "code",
      "source": [
        "p = eval(input(\"Enter pressure : \"))\n",
        "v = eval(input(\"Enter  volume : \"))\n",
        "t = eval(input(\"Enter temperature : \"))\n",
        "x = input(\"if temperature is in Celsius enter C or if  in Fahrenheit enter F or if in Kelvin enter K :  \")\n",
        "r = 8.314\n",
        "if x == 'C' :\n",
        "  t = t + 273.15\n",
        "elif x == 'F' :\n",
        "  t = (t -32) * 5/9 + 237.15\n",
        "\n",
        "n = p*v/r*t\n",
        "print(\"no.  of gas in moles : \",n)"
      ],
      "metadata": {
        "colab": {
          "base_uri": "https://localhost:8080/"
        },
        "id": "3cNfQgBcU-sy",
        "outputId": "ac264cd4-3a06-4b16-8e10-89582086415e"
      },
      "execution_count": null,
      "outputs": [
        {
          "output_type": "stream",
          "name": "stdout",
          "text": [
            "Enter pressure : 259\n",
            "Enter  volume : 456\n",
            "Enter temperature : 35\n",
            "if temperature is in Celsius enter C or if  in Fahrenheit enter F or if in Kelvin enter K :  C\n",
            "no.  of gas in moles :  4377405.292278085\n"
          ]
        }
      ]
    },
    {
      "cell_type": "code",
      "source": [
        "# Q21 Area of a Triangle"
      ],
      "metadata": {
        "id": "ZVHf5lc0BwbW"
      },
      "execution_count": null,
      "outputs": []
    },
    {
      "cell_type": "code",
      "source": [
        "b = eval(input(\"Enter the base of the triangle : \"))\n",
        "h = eval(input(\"Enter the height of the triangle : \"))\n",
        "\n",
        "area = 1/2 * b * h\n",
        "print( \"Area of triangle = \", area, \"sq units \")"
      ],
      "metadata": {
        "colab": {
          "base_uri": "https://localhost:8080/"
        },
        "id": "e-_iqrYxF7jp",
        "outputId": "11460fa1-b335-482b-c2ec-c0db2188d75d"
      },
      "execution_count": null,
      "outputs": [
        {
          "output_type": "stream",
          "name": "stdout",
          "text": [
            "Enter the base of the triangle : 10\n",
            "Enter the height of the triangle : 4\n",
            "Area of triangle =  20.0 sq units \n"
          ]
        }
      ]
    },
    {
      "cell_type": "code",
      "source": [
        "# Q22 Area of a Triangle (Again)"
      ],
      "metadata": {
        "id": "iinDa3kWGSBU"
      },
      "execution_count": null,
      "outputs": []
    },
    {
      "cell_type": "code",
      "source": [
        "import math\n",
        "s1 = eval(input(\"Enter the  1st side of the triangle : \"))\n",
        "s2 = eval(input(\"Enter the  2nd side of the triangle : \"))\n",
        "s3 = eval(input(\"Enter the  3rd side of the triangle : \"))\n",
        "\n",
        "s = s1 + s2 + s3 / 2\n",
        "\n",
        "area = math.sqrt ( s * (s - s1) * (s - s2) * (s -s3))\n",
        "print( \" Area = \", area)"
      ],
      "metadata": {
        "colab": {
          "base_uri": "https://localhost:8080/"
        },
        "id": "ZzbFojGaGbFZ",
        "outputId": "49cb9691-27bb-4cf7-d92c-712696b9c15d"
      },
      "execution_count": null,
      "outputs": [
        {
          "output_type": "stream",
          "name": "stdout",
          "text": [
            "Enter the  1st side of the triangle : 4\n",
            "Enter the  2nd side of the triangle : 5\n",
            "Enter the  3rd side of the triangle : 6\n",
            " Area =  63.49803146555018\n"
          ]
        }
      ]
    },
    {
      "cell_type": "code",
      "source": [],
      "metadata": {
        "id": "aXqCGahAHBxv"
      },
      "execution_count": null,
      "outputs": []
    }
  ]
}