{
  "nbformat": 4,
  "nbformat_minor": 0,
  "metadata": {
    "colab": {
      "provenance": [],
      "authorship_tag": "ABX9TyO3B+FDwgjhropozhsmFPbT"
    },
    "kernelspec": {
      "name": "python3",
      "display_name": "Python 3"
    },
    "language_info": {
      "name": "python"
    }
  },
  "cells": [
    {
      "cell_type": "code",
      "execution_count": 1,
      "metadata": {
        "id": "qo9V8BCXB6fS"
      },
      "outputs": [],
      "source": [
        "# Q48: Chinese Zodiac"
      ]
    },
    {
      "cell_type": "code",
      "source": [
        "x = 2011\n",
        "y = x % 12\n",
        "print(y)"
      ],
      "metadata": {
        "colab": {
          "base_uri": "https://localhost:8080/"
        },
        "id": "XSBzZeCORkop",
        "outputId": "b06bc044-e102-4148-bcea-7723a57a6109"
      },
      "execution_count": null,
      "outputs": [
        {
          "output_type": "stream",
          "name": "stdout",
          "text": [
            "7\n"
          ]
        }
      ]
    },
    {
      "cell_type": "code",
      "source": [
        "yr  = int(input(\"Enter year : \"))\n",
        "\n",
        "if yr % 12 == 8 :\n",
        "  print(\"Its the year of the Dragon\")\n",
        "elif yr % 12 == 9 :\n",
        "  print(\"Its the year of the Snake\")\n",
        "elif yr % 12 == 10 :\n",
        "  print(\"Its the year of the Horse\")\n",
        "elif yr % 12 == 11 :\n",
        "  print(\"Its the year of the Sheep\")\n",
        "elif yr % 12 == 0 :\n",
        "  print(\"Its the year of the Monkey\")\n",
        "elif yr % 12 == 1 :\n",
        "  print(\"Its the year of the Rooster\")\n",
        "elif yr % 12 == 2 :\n",
        "  print(\"Its the year of the Dog\")\n",
        "elif yr % 12 == 3 :\n",
        "  print(\"Its the year of the Pig\")\n",
        "elif yr % 12 == 4 :\n",
        "  print(\"Its the year of the Rat\")\n",
        "elif yr % 12 == 5 :\n",
        "  print(\"Its the year of the Ox\")\n",
        "elif yr % 12 == 6 :\n",
        "  print(\"Its the year of the Tiger\")\n",
        "elif yr % 12 == 7 :\n",
        "  print(\"Its the year of the Hare\")\n",
        "else :\n",
        "  print(\"Invalid year\")\n",
        "\n"
      ],
      "metadata": {
        "colab": {
          "base_uri": "https://localhost:8080/"
        },
        "id": "SilLQ6UPCZkh",
        "outputId": "ad64e822-3067-4002-bbd5-5d05ae8a5820"
      },
      "execution_count": null,
      "outputs": [
        {
          "output_type": "stream",
          "name": "stdout",
          "text": [
            "Enter year : 1999\n",
            "Its the year of the Hare\n"
          ]
        }
      ]
    },
    {
      "cell_type": "code",
      "source": [
        "# Q50: Roots of a Quadratic Function"
      ],
      "metadata": {
        "id": "PpJ5YoJ6R9DG"
      },
      "execution_count": null,
      "outputs": []
    },
    {
      "cell_type": "code",
      "source": [
        "from math import sqrt\n",
        "a = float(input(\"Enter a : \"))\n",
        "b = float(input(\"Enter b : \"))\n",
        "c = float(input(\"Enter c : \"))\n",
        "\n",
        "x = (b**2) - (4*a*c)\n",
        "dis = sqrt(abs(x))\n",
        "\n",
        "if dis > 0 :\n",
        "  root1 = (-b + dis)/2*a\n",
        "  root2 = (-b - dis)/2*a\n",
        "  print(\"There are 2  roots, they are : \", root1, root2)\n",
        "elif dis == 0 :\n",
        "  root = -b / 2*a\n",
        "  print(\"The root is only one root , root = : \", root)\n",
        "else :\n",
        "  print(\"This equation has no real roots\")\n",
        "\n",
        "\n"
      ],
      "metadata": {
        "id": "37IO9PtZXHxj",
        "colab": {
          "base_uri": "https://localhost:8080/"
        },
        "outputId": "60aa0c9f-5997-4487-94ef-56b79998a95f"
      },
      "execution_count": null,
      "outputs": [
        {
          "output_type": "stream",
          "name": "stdout",
          "text": [
            "Enter a : -1\n",
            "Enter b : 0\n",
            "Enter c : 25\n",
            "There are 2  roots, they are :  -5.0 5.0\n"
          ]
        }
      ]
    },
    {
      "cell_type": "code",
      "source": [
        "# Q56 Cell Phone Bill"
      ],
      "metadata": {
        "id": "XzNvx_m26S_z"
      },
      "execution_count": null,
      "outputs": []
    },
    {
      "cell_type": "code",
      "source": [
        "min = float(input(\"Enter the number  of air time minutes : \"))\n",
        "txt = float(input(\"Enter the number of text mssgs used : \"))\n",
        "base = 15.00\n",
        "emer = 0.44\n",
        "\n",
        "if min > 50 :\n",
        "  min1 = min - 50\n",
        "else :\n",
        "  min1 = 0\n",
        "\n",
        "if txt > 50 :\n",
        "  text1 = txt - 50\n",
        "else :\n",
        "  text1 = 0\n",
        "\n",
        "cost = base + (min1 * 0.25) + (text1 * 0.15) + emer\n",
        "tax = cost * 0.05\n",
        "tax = format(tax, \"0.2f\")\n",
        "cost = format(cost, \"0.2f\")\n",
        "text1 = format(text1, \"0.2f\")\n",
        "min1 = format(min1, \"0.2f\")\n",
        "\n",
        "print(\"base charge = \", base)\n",
        "if min1 != 0 :\n",
        "  print(\"The additional minute charge incurred = \", min1)\n",
        "elif text1 != 0 :\n",
        "  print(\"The additional minute charge incurred = \", text1)\n",
        "\n",
        "print(\"911 fee tax = \", emer )\n",
        "print(\"total = \", cost)\n",
        "\n",
        "\n"
      ],
      "metadata": {
        "id": "UDU0udlT6bVL",
        "colab": {
          "base_uri": "https://localhost:8080/"
        },
        "outputId": "086b3d9f-1f15-418d-c67f-c90a3b0029ea"
      },
      "execution_count": null,
      "outputs": [
        {
          "output_type": "stream",
          "name": "stdout",
          "text": [
            "Enter the number  of air time minutes : 55\n",
            "Enter the number of text mssgs used : 40\n",
            "base charge =  15.0\n",
            "The additional minute charge incurred =  5.00\n",
            "911 fee tax =  0.44\n",
            "total =  16.69\n"
          ]
        }
      ]
    },
    {
      "cell_type": "code",
      "source": [
        "# Q57 Is it a Leap Year?"
      ],
      "metadata": {
        "id": "L1jz2hKB55I9"
      },
      "execution_count": null,
      "outputs": []
    },
    {
      "cell_type": "code",
      "source": [
        "yr = int(input(\"Enter year : \"))\n",
        "\n",
        "if yr % 400 == 0 :\n",
        "  print(yr,' is a leap year !')\n",
        "elif yr % 4 == 0 :\n",
        "  print(yr,' is a leap year !')\n",
        "elif yr % 100 == 0 :\n",
        "  print(yr,\" is not a leap year\")\n",
        "else :\n",
        "  print(yr,\" is not a leap year\")\n",
        ""
      ],
      "metadata": {
        "colab": {
          "base_uri": "https://localhost:8080/"
        },
        "id": "FhhasbxbCn5m",
        "outputId": "f01fcce5-c502-426f-9214-6c2435ca430e"
      },
      "execution_count": null,
      "outputs": [
        {
          "output_type": "stream",
          "name": "stdout",
          "text": [
            "Enter year : 2400\n",
            "2400  is a leap year !\n"
          ]
        }
      ]
    },
    {
      "cell_type": "code",
      "source": [
        "# Q58 Next Day"
      ],
      "metadata": {
        "id": "f7SMPYDTIqoJ"
      },
      "execution_count": null,
      "outputs": []
    },
    {
      "cell_type": "code",
      "source": [
        "values = input(\"Enter year, month and day as space separated values :\").split()\n",
        "yr, mnth, day = map(int,values)\n",
        "from calendar import monthrange\n",
        "num_days = monthrange(yr, mnth)[1]\n",
        "\n",
        "if mnth == 12 :\n",
        "  if day == 31 :\n",
        "    yr += 1\n",
        "    mnth = 1\n",
        "    day = 1\n",
        "  else :\n",
        "    day +=1\n",
        "\n",
        "else :\n",
        "  if day == num_days :\n",
        "    mnth += 1\n",
        "    day = 1\n",
        "  else :\n",
        "    day += 1\n",
        "\n",
        "print(\"The next day is : \", yr,\"-\", mnth,\"-\", day)\n"
      ],
      "metadata": {
        "colab": {
          "base_uri": "https://localhost:8080/"
        },
        "id": "aj6tUcMcDOg6",
        "outputId": "372cc777-edbf-4117-9047-15ba36ab2dc8"
      },
      "execution_count": null,
      "outputs": [
        {
          "output_type": "stream",
          "name": "stdout",
          "text": [
            "Enter year, month and day as space separated values :2024 2 28\n",
            "The next day is :  2024 - 2 - 29\n"
          ]
        }
      ]
    },
    {
      "cell_type": "code",
      "source": [],
      "metadata": {
        "id": "4Fu4t28IFuiF"
      },
      "execution_count": null,
      "outputs": []
    }
  ]
}