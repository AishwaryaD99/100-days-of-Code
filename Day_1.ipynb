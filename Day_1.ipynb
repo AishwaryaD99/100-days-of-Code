{
  "nbformat": 4,
  "nbformat_minor": 0,
  "metadata": {
    "colab": {
      "provenance": [],
      "authorship_tag": "ABX9TyPmql+SJXi3fyYo3x7O13rr"
    },
    "kernelspec": {
      "name": "python3",
      "display_name": "Python 3"
    },
    "language_info": {
      "name": "python"
    }
  },
  "cells": [
    {
      "cell_type": "code",
      "source": [
        "# Q1 Mailing address"
      ],
      "metadata": {
        "id": "8NUai-awrFeS"
      },
      "execution_count": null,
      "outputs": []
    },
    {
      "cell_type": "code",
      "execution_count": null,
      "metadata": {
        "colab": {
          "base_uri": "https://localhost:8080/"
        },
        "id": "tnNdIRN-o11x",
        "outputId": "b6abef60-b8f0-40d3-a8da-6401bc5fbdb5"
      },
      "outputs": [
        {
          "output_type": "stream",
          "name": "stdout",
          "text": [
            "Aishwarya\n",
            " \n",
            "Digital University Kerala\n",
            "Pallipuram\n",
            "Thiruvanathapuram\n",
            "Kerala\n"
          ]
        }
      ],
      "source": [
        "print(\"\"\"Aishwarya\\n\n",
        "Digital University Kerala\n",
        "Pallipuram\n",
        "Thiruvanathapuram\n",
        "Kerala\"\"\")"
      ]
    },
    {
      "cell_type": "code",
      "source": [
        "# Q2 Hello"
      ],
      "metadata": {
        "id": "VgaxXqtkp9d8"
      },
      "execution_count": null,
      "outputs": []
    },
    {
      "cell_type": "code",
      "source": [
        "name = input(\"Please Enter your name : \")\n",
        "print(\"hello \", name)"
      ],
      "metadata": {
        "colab": {
          "base_uri": "https://localhost:8080/"
        },
        "id": "dUEkMtverBfy",
        "outputId": "3f915a3d-1f25-4414-978d-1a920c3ae825"
      },
      "execution_count": null,
      "outputs": [
        {
          "output_type": "stream",
          "name": "stdout",
          "text": [
            "Please Enter your name : Ai\n",
            "hello  Ai\n"
          ]
        }
      ]
    },
    {
      "cell_type": "code",
      "source": [
        "# Q3 Area of a room"
      ],
      "metadata": {
        "id": "F3zLetolrvN4"
      },
      "execution_count": null,
      "outputs": []
    },
    {
      "cell_type": "code",
      "source": [
        "x = float(input(\"Enter Length: \"))\n",
        "y = float (input(\"Enter width: \"))\n",
        "print(\"Area = \", x*y,\" square meters\" )"
      ],
      "metadata": {
        "colab": {
          "base_uri": "https://localhost:8080/"
        },
        "id": "4CDbXyOzsl5a",
        "outputId": "20a759ae-3ea6-4ad7-d403-2363d88ec69b"
      },
      "execution_count": null,
      "outputs": [
        {
          "output_type": "stream",
          "name": "stdout",
          "text": [
            "Enter Length: 5\n",
            "Enter width: 6\n",
            "Area =  30.0  square meters\n"
          ]
        }
      ]
    },
    {
      "cell_type": "code",
      "source": [
        "# Q4 Area of a Field"
      ],
      "metadata": {
        "id": "KXaUts1ew_lC"
      },
      "execution_count": null,
      "outputs": []
    },
    {
      "cell_type": "code",
      "source": [
        "acre = 43560\n",
        "x = int(input(\"Enter length of field in feet: \"))\n",
        "y = int(input(\"Enter width of field in feet: \"))\n",
        "area_in_acres = x*y/acre\n",
        "print(\"Area of field is: \",area_in_acres,\" acres\")\n"
      ],
      "metadata": {
        "colab": {
          "base_uri": "https://localhost:8080/"
        },
        "id": "tee0i1IIs7lL",
        "outputId": "c9e7cd53-f2d8-4d75-b854-129c6dab9280"
      },
      "execution_count": null,
      "outputs": [
        {
          "output_type": "stream",
          "name": "stdout",
          "text": [
            "Enter length of field in feet: 5\n",
            "Enter width of field in feet: 7\n",
            "Area of field is:  0.0008034894398530762  acres\n"
          ]
        }
      ]
    },
    {
      "cell_type": "code",
      "source": [
        "# Q5 Bottle Deposits - Format the output so that it includes a dollar sign and always displays exactly two decimal places."
      ],
      "metadata": {
        "id": "xVv0ibXyuVdx"
      },
      "execution_count": null,
      "outputs": []
    },
    {
      "cell_type": "code",
      "source": [
        "s = int(input(\"Enter number of containers of size 1 litre and less: \"))\n",
        "b = int(input(\"Enter number of containers of size more than 1 litre: \"))\n",
        "amount = s*0.10 + b*0.25\n",
        "amount = format( amount, \".2f\")\n",
        "print(\"The refund amount for the containers is: $\", amount)"
      ],
      "metadata": {
        "colab": {
          "base_uri": "https://localhost:8080/"
        },
        "id": "e8hQ7Lk3xESG",
        "outputId": "375c3966-8515-4663-c5b7-243d69cdaadd"
      },
      "execution_count": null,
      "outputs": [
        {
          "output_type": "stream",
          "name": "stdout",
          "text": [
            "Enter number of containers of size 1 litre and less: 25\n",
            "Enter number of containers of size more than 1 litre: 35\n",
            "The refund amount for the containers is: $ 11.25\n"
          ]
        }
      ]
    },
    {
      "cell_type": "code",
      "source": [
        "s = int(input(\"Enter number of containers of size 1 litre and less: \"))\n",
        "b = int(input(\"Enter number of containers of size more than 1 litre: \"))\n",
        "amount = s*0.10 + b*0.255\n",
        "print(\"The refund amount for the containers is: $\", amount)"
      ],
      "metadata": {
        "colab": {
          "base_uri": "https://localhost:8080/"
        },
        "id": "Y3LpUcGmzfPx",
        "outputId": "ce35b456-3b81-4eb6-cddc-2420c235c40f"
      },
      "execution_count": null,
      "outputs": [
        {
          "output_type": "stream",
          "name": "stdout",
          "text": [
            "Enter number of containers of size 1 litre and less: 25\n",
            "Enter number of containers of size more than 1 litre: 35\n",
            "The refund amount for the containers is: $ 11.425\n"
          ]
        }
      ]
    },
    {
      "cell_type": "code",
      "source": [
        "s = int(input(\"Enter number of containers of size 1 litre and less: \"))\n",
        "b = int(input(\"Enter number of containers of size more than 1 litre: \"))\n",
        "amount = s*0.10 + b*0.255\n",
        "amount = format( amount, \".2f\")\n",
        "print(\"The refund amount for the containers is: $\", amount)"
      ],
      "metadata": {
        "colab": {
          "base_uri": "https://localhost:8080/"
        },
        "id": "umDUZYxWyNWe",
        "outputId": "52e6a2f7-42c8-4a4f-a2e2-435f508e8139"
      },
      "execution_count": null,
      "outputs": [
        {
          "output_type": "stream",
          "name": "stdout",
          "text": [
            "Enter number of containers of size 1 litre and less: 25\n",
            "Enter number of containers of size more than 1 litre: 35\n",
            "The refund amount for the containers is: $ 11.43\n"
          ]
        }
      ]
    },
    {
      "cell_type": "code",
      "source": [
        "# Q6 Tax and Tip"
      ],
      "metadata": {
        "id": "7wJM38Xbzw5l"
      },
      "execution_count": null,
      "outputs": []
    },
    {
      "cell_type": "code",
      "source": [
        "cost = float(input(\"Please enter the cost of  the meal: \"))\n",
        "tax = cost * 0.2\n",
        "tip = cost * 0.18\n",
        "total = cost + tax + tip\n",
        "total = format(total, \".2f\")\n",
        "tax = format(tax, \".2f\")\n",
        "tip = format(tip, \".2f\")\n",
        "print(\"Tax :\",  tax)\n",
        "print(\"Tip :\",  tip)\n",
        "print(\"Total :\",  total)\n"
      ],
      "metadata": {
        "colab": {
          "base_uri": "https://localhost:8080/"
        },
        "id": "9FpEORb40Sjf",
        "outputId": "39f9343c-6713-42a0-9e26-31d2c9eca10a"
      },
      "execution_count": null,
      "outputs": [
        {
          "output_type": "stream",
          "name": "stdout",
          "text": [
            "Please enter the cost of  the meal: 2564\n",
            "Tax : 512.80\n",
            "Tip : 461.52\n",
            "Total : 3538.32\n"
          ]
        }
      ]
    },
    {
      "cell_type": "code",
      "source": [
        "# Q7 Sum of the First n Positive Integers"
      ],
      "metadata": {
        "id": "oxHs8nXp7OVi"
      },
      "execution_count": null,
      "outputs": []
    },
    {
      "cell_type": "code",
      "source": [
        "num = int(input(\"Enter positive intger \"))\n",
        "sum = num * (num + 1) / 2\n",
        "sum = int(sum)\n",
        "print(\"Sum of first \",num,\"numbers is :\", sum)"
      ],
      "metadata": {
        "colab": {
          "base_uri": "https://localhost:8080/"
        },
        "id": "b6BsVK_e3GH_",
        "outputId": "6f6e2b97-cfef-4e56-d3f0-19b105c8a226"
      },
      "execution_count": null,
      "outputs": [
        {
          "output_type": "stream",
          "name": "stdout",
          "text": [
            "Enter positive intger 25\n",
            "Sum of first  25 numbers is : 325\n"
          ]
        }
      ]
    },
    {
      "cell_type": "code",
      "source": [
        "# Q8 Widgets and Gizmos"
      ],
      "metadata": {
        "id": "iheBpnEg603l"
      },
      "execution_count": null,
      "outputs": []
    },
    {
      "cell_type": "code",
      "source": [
        "n = int(input(\"Enter number of widgets needed \"))\n",
        "m =int(input(\"Enter number of gizmos needed \"))\n",
        "wt = n * 75 + m * 125\n",
        "print(\"Total weight is : \", wt, \" grams\")"
      ],
      "metadata": {
        "colab": {
          "base_uri": "https://localhost:8080/"
        },
        "id": "UNDydbWq5w8d",
        "outputId": "38387a9c-acc8-4a9e-db5c-5f4b662fd22c"
      },
      "execution_count": null,
      "outputs": [
        {
          "output_type": "stream",
          "name": "stdout",
          "text": [
            "Enter number of widgets needed 2\n",
            "Enter number of gizmos needed 9\n",
            "Total weight is :  1275  grams\n"
          ]
        }
      ]
    },
    {
      "cell_type": "code",
      "source": [
        "# Q9 Compound Interest"
      ],
      "metadata": {
        "id": "H7LkCZRP7W8f"
      },
      "execution_count": null,
      "outputs": []
    },
    {
      "cell_type": "code",
      "source": [
        "intrst = 0.04\n",
        "amount = eval(input(\"Enter num to be deposited : \"))\n",
        "y1 = amount*intrst + amount\n",
        "y2 = y1*intrst + y1\n",
        "y3 = y2*intrst + y2\n",
        "\n",
        "print(\" The amount in saving account after year 1,2,3 are : \", y1, y2, y3)"
      ],
      "metadata": {
        "id": "qNe9ecwq7bcu",
        "colab": {
          "base_uri": "https://localhost:8080/"
        },
        "outputId": "ff96489e-a585-41b6-bb1f-25610fa261c7"
      },
      "execution_count": null,
      "outputs": [
        {
          "output_type": "stream",
          "name": "stdout",
          "text": [
            "Enter num to be deposited : 5000\n",
            " The amount in saving account after year 1,2,3 are :  5200.0 5408.0 5624.32\n"
          ]
        }
      ]
    },
    {
      "cell_type": "code",
      "source": [
        "# Q10 Arithmetic"
      ],
      "metadata": {
        "id": "HDlMXy9N72K7"
      },
      "execution_count": null,
      "outputs": []
    },
    {
      "cell_type": "code",
      "source": [
        "from math import log10\n",
        "a = eval(input(\"Enter 1st number : \"))\n",
        "b = eval(input(\"Enter 2nd number : \"))\n",
        "\n",
        "sum = a + b\n",
        "diff = a - b\n",
        "prodct = a * b\n",
        "q = a / b\n",
        "rem = a % b\n",
        "log = log10(a)\n",
        "expo = a**b\n",
        "\n",
        "print(\"the sum of a and b is : \", sum)\n",
        "print(\"the diff of a and b is : \", diff)\n",
        "print(\"the product of a and b is : \", prodct)\n",
        "print(\"the quotient of a divided by b is : \", q)\n",
        "print(\"the remainder of a divided by b is : \", rem)\n",
        "print(\"the log of a is : \", log)\n",
        "print(\" a^b is : \", expo)\n",
        "\n"
      ],
      "metadata": {
        "id": "YawW2FJkJBJP",
        "colab": {
          "base_uri": "https://localhost:8080/"
        },
        "outputId": "514d0308-2638-4733-8333-67ec82d21441"
      },
      "execution_count": null,
      "outputs": [
        {
          "output_type": "stream",
          "name": "stdout",
          "text": [
            "Enter 1st number : 2\n",
            "Enter 2nd number : 3\n",
            "the sum of a and b is :  5\n",
            "the diff of a and b is :  -1\n",
            "the product of a and b is :  6\n",
            "the quotient of a divided by b is :  0.6666666666666666\n",
            "the remainder of a divided by b is :  2\n",
            "the log of a is :  0.3010299956639812\n",
            " a^b is :  8\n"
          ]
        }
      ]
    },
    {
      "cell_type": "code",
      "source": [],
      "metadata": {
        "id": "168rFa1tyLiP"
      },
      "execution_count": null,
      "outputs": []
    }
  ]
}